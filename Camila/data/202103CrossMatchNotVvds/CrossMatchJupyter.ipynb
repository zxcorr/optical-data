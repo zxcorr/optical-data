{
 "cells": [
  {
   "cell_type": "code",
   "execution_count": null,
   "metadata": {},
   "outputs": [],
   "source": [
    "import sys,os\n",
    "from astropy.table import Table, join, hstack, QTable\n",
    "import pandas as pd\n",
    "import AstroFunctions as astro\n",
    "import numpy as np\n",
    "from astropy.io import fits\n",
    "import astropy as astropy\n",
    "\n",
    "tabela_1 = astropy.io.fits.open('ned.fits')\n",
    "tabela_2 = astropy.io.fits.open('OzDES_GRC_2018_12_07.fits')\n",
    "error = 0.00028\n",
    "\n",
    "\n",
    "\n",
    "#Leitura das duas tabelas em csv com pandas\n",
    "#tabela_1 = pd.read_csv('ned.csv')\n",
    "#tabela_2 = pd.read_csv('simbad.csv')\n",
    "\n",
    "#Transformação das duas tabelas pandas em arquivos fits\n",
    "#tabela_1 = QTable.from_pandas(tabela_1)\n",
    "#tabela_2 = QTable.from_pandas(tabela_2)\n",
    "\n",
    "\n",
    "path_new = '//Users//camila//Documents//BINGO//data//Resultado'\n",
    "\n",
    "\n",
    "\n",
    "data = astro.match(tabela_1, tabela_2,'RA','RA','DEC','DEC',error)\n",
    "if len(data) != 0:\n",
    "    data.add_column(1.5, name = 'random')\n",
    "    for i in range(0, len(data)):\n",
    "        data[i]['random'] = np.random.random()\n",
    "\n",
    "filename = 'match.fits'\n",
    "data.write(os.path.join(path_new,filename))\n",
    "\n",
    "t = astro.joinTables(path_new,'match.fits')\n",
    "#astro.joinTables1(path_new,'match.fits')  #if the first function doesn't work"
   ]
  }
 ],
 "metadata": {
  "kernelspec": {
   "display_name": "Python 3",
   "language": "python",
   "name": "python3"
  },
  "language_info": {
   "codemirror_mode": {
    "name": "ipython",
    "version": 3
   },
   "file_extension": ".py",
   "mimetype": "text/x-python",
   "name": "python",
   "nbconvert_exporter": "python",
   "pygments_lexer": "ipython3",
   "version": "3.8.5"
  }
 },
 "nbformat": 4,
 "nbformat_minor": 4
}
