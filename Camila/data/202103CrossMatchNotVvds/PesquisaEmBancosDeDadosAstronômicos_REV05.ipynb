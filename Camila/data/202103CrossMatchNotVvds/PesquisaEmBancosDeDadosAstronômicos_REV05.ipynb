{
 "cells": [
  {
   "cell_type": "markdown",
   "metadata": {},
   "source": [
    "<h1> Pesquisa em bancos de dados para astronomia</h1>\n",
    "\n",
    "Primeiramente e necessario que o usuario tenha instalado no seu computador os modulos: numpy, pandas, astroquery, astropy, seaborn e matplotlib. O modulo Astrofunctions e um documento .py , criado pelo Rafael, que precisa estar alocado no mesmo diretorio que o codigo sera colocado.\n",
    "Para instalacao dos modulos extras e necessario abrir o Terminal e digitar o comando pip install O_nome_do_modulo_de_interesse. O comando e o mesmo para usuarios do mac e para usuarios da distribuicao do anaconda no windows.  "
   ]
  },
  {
   "cell_type": "code",
   "execution_count": 33,
   "metadata": {},
   "outputs": [],
   "source": [
    "import numpy as np\n",
    "import pandas as pd\n",
    "import seaborn as sns\n",
    "import matplotlib.pyplot as plt\n",
    "import astropy.units as u\n",
    "import math\n",
    "from astroquery.ned import Ned\n",
    "from astroquery.simbad import Simbad\n",
    "from astropy.table import Table,QTable\n",
    "from astropy import coordinates\n",
    "\n",
    "#Modulos autorais\n",
    "import AstroFunctions as astro\n",
    "from UnitConversion import hmstodegree, dmstodegree\n"
   ]
  },
  {
   "cell_type": "markdown",
   "metadata": {},
   "source": [
    "Utilizando o modulo Pandas, o proximo passo e ler um arquivo csv alocado no endereco entre \n",
    "(\"\"). Apos a leitura desse arquivo, o comando vvds[].values serve apara alocar em uma array \n",
    "os valores contidos na coluna intitulada \"RA\""
   ]
  },
  {
   "cell_type": "code",
   "execution_count": 2,
   "metadata": {},
   "outputs": [],
   "source": [
    "vvds = pd.read_csv(\"vvds-not.csv\")\n",
    "RA = vvds[\"RA\"].values\n",
    "DEC = vvds[\"DEC\"].values"
   ]
  },
  {
   "cell_type": "markdown",
   "metadata": {},
   "source": [
    "Para que seja possivel percorrer varias regioes relacionadas aos varios valores contidos na coluna que descreve as coordenadas e necessario realizar a pesquisa com o auxilio de um for que percorre todas as linhas das arrays e pesquisa regiao por regiao."
   ]
  },
  {
   "cell_type": "markdown",
   "metadata": {},
   "source": [
    "\n",
    "Com relação ao astroquery, ele possui um tempo limite de conexão com o servidor que e pequeno, por isso para uma pesquisa de muitos dados e necessário alterar o valor da variável timeout na pasta em que o modulo astroquery foi instalado e na respectiva pasta do banco de dados."
   ]
  },
  {
   "cell_type": "code",
   "execution_count": 3,
   "metadata": {},
   "outputs": [],
   "source": [
    "l1 = []\n",
    "l2 = []\n",
    "for i in range(len(RA)):\n",
    "    co = coordinates.SkyCoord(ra = RA[i],dec= DEC[i],unit=(u.deg,u.deg))\n",
    "    #Pesquisa no banco de dados NED\n",
    "    ned_table = Ned.query_region(co, radius=0.0007* u.deg) #sugestao 0.0007\n",
    "    df = ned_table.to_pandas()\n",
    "    l1.append(df)\n",
    "    #Pesquisa no banco de dados SIMBAD\n",
    "    simbad_table = Simbad.query_region(co, radius=0.0007* u.deg)\n",
    "    df = simbad_table.to_pandas()\n",
    "    l2.append(df)\n"
   ]
  },
  {
   "cell_type": "code",
   "execution_count": 43,
   "metadata": {},
   "outputs": [
    {
     "name": "stdout",
     "output_type": "stream",
     "text": [
      "No.  Object Name       RA     ... Redshift Points Diameter Points Associations\n",
      "                    degrees   ...                                             \n",
      "--- -------------- ---------- ... --------------- --------------- ------------\n",
      "  1 VVDS 020086348    36.6795 ...               1               0            0\n",
      "  2 VVDS 020086179   36.67985 ...               0               0            0\n",
      "  3 VVDS 020086136   36.68013 ...               0               0            0\n",
      "No.  Object Name       RA     ... Redshift Points Diameter Points Associations\n",
      "                    degrees   ...                                             \n",
      "--- -------------- ---------- ... --------------- --------------- ------------\n",
      "  1 VVDS 020086348    36.6795 ...               1               0            0\n",
      "  3 VVDS 020086136   36.68013 ...               0               0            0\n",
      "No.  Object Name       RA     ... Redshift Points Diameter Points Associations\n",
      "                    degrees   ...                                             \n",
      "--- -------------- ---------- ... --------------- --------------- ------------\n",
      "  1 VVDS 020086348    36.6795 ...               1               0            0\n",
      "No.        Object Name             RA     ... Diameter Points Associations\n",
      "                                degrees   ...                             \n",
      "--- -------------------------- ---------- ... --------------- ------------\n",
      "  1 SSTSL2 J022545.28-044913.1   36.43865 ...               0            0\n",
      "  2             VVDS 020086397   36.43875 ...               0            0\n",
      "  3 VVDS:[RBO2008] ir 00037326   36.43888 ...               0            0\n",
      "No.        Object Name             RA     ... Diameter Points Associations\n",
      "                                degrees   ...                             \n",
      "--- -------------------------- ---------- ... --------------- ------------\n",
      "  1 SSTSL2 J022545.28-044913.1   36.43865 ...               0            0\n",
      "  3 VVDS:[RBO2008] ir 00037326   36.43888 ...               0            0\n",
      "No.        Object Name             RA     ... Diameter Points Associations\n",
      "                                degrees   ...                             \n",
      "--- -------------------------- ---------- ... --------------- ------------\n",
      "  1 SSTSL2 J022545.28-044913.1   36.43865 ...               0            0\n",
      "No.  Object Name       RA     ... Redshift Points Diameter Points Associations\n",
      "                    degrees   ...                                             \n",
      "--- -------------- ---------- ... --------------- --------------- ------------\n",
      "  1 VVDS 020086471   36.50192 ...               1               0            0\n",
      "No.        Object Name             RA     ... Diameter Points Associations\n",
      "                                degrees   ...                             \n",
      "--- -------------------------- ---------- ... --------------- ------------\n",
      "  1 SSTSL2 J022553.56-044914.6   36.47329 ...               0            0\n",
      "No.  Object Name       RA     ... Redshift Points Diameter Points Associations\n",
      "                    degrees   ...                                             \n",
      "--- -------------- ---------- ... --------------- --------------- ------------\n",
      "  1 VVDS 020086792   36.31575 ...               1               0            0\n"
     ]
    }
   ],
   "source": [
    "array = []\n",
    "for i in range(5):\n",
    "    co = coordinates.SkyCoord(ra = RA[i],dec= DEC[i],unit=(u.deg,u.deg))\n",
    "    #Pesquisa no banco de dados NED\n",
    "    tabela = Ned.query_region(co, radius=0.0007* u.deg) #sugestao 0.0007\n",
    "    if len(tabela)>1:\n",
    "        for j in range(len(tabela)-1):\n",
    "            print(tabela)\n",
    "            distancia1 = math.sqrt((math.radians(tabela['DEC'][0])-math.radians(DEC[i]))**2 + (math.radians(tabela['RA'][0])-math.radians(RA[i]))**2)\n",
    "            distancia1 = math.sqrt((math.radians(tabela['DEC'][1])-math.radians(DEC[i]))**2 + (math.radians(tabela['RA'][1])-math.radians(RA[i]))**2)                      \n",
    "            if distancia1 > distancia2:\n",
    "                tabela.remove_row(0)\n",
    "            else:\n",
    "                tabela.remove_row(1)\n",
    "    print(tabela)            \n",
    "    df = tabela.to_pandas()\n",
    "    array.append(df)"
   ]
  },
  {
   "cell_type": "code",
   "execution_count": 45,
   "metadata": {},
   "outputs": [
    {
     "ename": "AttributeError",
     "evalue": "'list' object has no attribute 'head'",
     "output_type": "error",
     "traceback": [
      "\u001b[0;31m---------------------------------------------------------------------------\u001b[0m",
      "\u001b[0;31mAttributeError\u001b[0m                            Traceback (most recent call last)",
      "\u001b[0;32m<ipython-input-45-99feb2d7de53>\u001b[0m in \u001b[0;36m<module>\u001b[0;34m\u001b[0m\n\u001b[0;32m----> 1\u001b[0;31m \u001b[0marray\u001b[0m\u001b[0;34m.\u001b[0m\u001b[0mhead\u001b[0m\u001b[0;34m(\u001b[0m\u001b[0;34m)\u001b[0m\u001b[0;34m\u001b[0m\u001b[0;34m\u001b[0m\u001b[0m\n\u001b[0m",
      "\u001b[0;31mAttributeError\u001b[0m: 'list' object has no attribute 'head'"
     ]
    }
   ],
   "source": []
  },
  {
   "cell_type": "code",
   "execution_count": 32,
   "metadata": {},
   "outputs": [
    {
     "data": {
      "text/plain": [
       "-4.8195"
      ]
     },
     "execution_count": 32,
     "metadata": {},
     "output_type": "execute_result"
    }
   ],
   "source": [
    "tabela['DEC'][0]"
   ]
  },
  {
   "cell_type": "code",
   "execution_count": 38,
   "metadata": {},
   "outputs": [
    {
     "data": {
      "text/plain": [
       "0.6393866152768648"
      ]
     },
     "execution_count": 38,
     "metadata": {},
     "output_type": "execute_result"
    }
   ],
   "source": [
    "distancia = math.sqrt(math.radians(tabela['DEC'][0])**2 + math.radians(tabela['RA'][0])**2)"
   ]
  },
  {
   "cell_type": "code",
   "execution_count": 4,
   "metadata": {},
   "outputs": [],
   "source": [
    "ned = pd.concat(l1, axis = 0, ignore_index = True)    \n",
    "simbad = pd.concat(l2, axis=0, ignore_index = True)"
   ]
  },
  {
   "cell_type": "code",
   "execution_count": 5,
   "metadata": {
    "scrolled": true
   },
   "outputs": [],
   "source": [
    "simbad_convertido = simbad.replace(simbad[\"RA\"].values ,hmstodegree(simbad[\"RA\"].values))\n",
    "simbad_convertido = simbad_convertido.replace(simbad_convertido[\"DEC\"].values ,dmstodegree(simbad[\"DEC\"].values))"
   ]
  },
  {
   "cell_type": "code",
   "execution_count": 6,
   "metadata": {},
   "outputs": [],
   "source": [
    "Coluna_RA = simbad[\"RA\"].values\n",
    "Coluna_DEC = simbad[\"DEC\"].values"
   ]
  },
  {
   "cell_type": "code",
   "execution_count": 7,
   "metadata": {},
   "outputs": [
    {
     "data": {
      "text/html": [
       "<i>Table length=2</i>\n",
       "<table id=\"table140392693879904\" class=\"table-striped table-bordered table-condensed\">\n",
       "<thead><tr><th>No.</th><th>Object Name</th><th>RA</th><th>DEC</th><th>Type</th><th>Velocity</th><th>Redshift</th><th>Redshift Flag</th><th>Magnitude and Filter</th><th>Separation</th><th>References</th><th>Notes</th><th>Photometry Points</th><th>Positions</th><th>Redshift Points</th><th>Diameter Points</th><th>Associations</th></tr></thead>\n",
       "<thead><tr><th></th><th></th><th>degrees</th><th>degrees</th><th></th><th>km / s</th><th></th><th></th><th></th><th>arcmin</th><th></th><th></th><th></th><th></th><th></th><th></th><th></th></tr></thead>\n",
       "<thead><tr><th>int32</th><th>bytes30</th><th>float64</th><th>float64</th><th>object</th><th>float64</th><th>float64</th><th>object</th><th>object</th><th>float64</th><th>int32</th><th>int32</th><th>int32</th><th>int32</th><th>int32</th><th>int32</th><th>int32</th></tr></thead>\n",
       "<tr><td>1</td><td>EIS J033302.20-275914.4</td><td>53.25917</td><td>-27.98733</td><td>*</td><td>--</td><td>--</td><td></td><td>21.80</td><td>0.001</td><td>9</td><td>0</td><td>42</td><td>4</td><td>0</td><td>0</td><td>0</td></tr>\n",
       "<tr><td>2</td><td>COMBO-17 10121</td><td>53.25921</td><td>-27.98792</td><td>G</td><td>419710.0</td><td>1.4</td><td>PHOT</td><td>24.9R</td><td>0.035</td><td>4</td><td>0</td><td>23</td><td>1</td><td>1</td><td>0</td><td>0</td></tr>\n",
       "</table>"
      ],
      "text/plain": [
       "<Table length=2>\n",
       " No.        Object Name           RA     ... Diameter Points Associations\n",
       "                               degrees   ...                             \n",
       "int32         bytes30          float64   ...      int32         int32    \n",
       "----- ----------------------- ---------- ... --------------- ------------\n",
       "    1 EIS J033302.20-275914.4   53.25917 ...               0            0\n",
       "    2          COMBO-17 10121   53.25921 ...               0            0"
      ]
     },
     "execution_count": 7,
     "metadata": {},
     "output_type": "execute_result"
    }
   ],
   "source": [
    "ned_table"
   ]
  },
  {
   "cell_type": "code",
   "execution_count": 8,
   "metadata": {},
   "outputs": [
    {
     "data": {
      "text/html": [
       "<div>\n",
       "<style scoped>\n",
       "    .dataframe tbody tr th:only-of-type {\n",
       "        vertical-align: middle;\n",
       "    }\n",
       "\n",
       "    .dataframe tbody tr th {\n",
       "        vertical-align: top;\n",
       "    }\n",
       "\n",
       "    .dataframe thead th {\n",
       "        text-align: right;\n",
       "    }\n",
       "</style>\n",
       "<table border=\"1\" class=\"dataframe\">\n",
       "  <thead>\n",
       "    <tr style=\"text-align: right;\">\n",
       "      <th></th>\n",
       "      <th>No.</th>\n",
       "      <th>Object Name</th>\n",
       "      <th>RA</th>\n",
       "      <th>DEC</th>\n",
       "      <th>Type</th>\n",
       "      <th>Velocity</th>\n",
       "      <th>Redshift</th>\n",
       "      <th>Redshift Flag</th>\n",
       "      <th>Magnitude and Filter</th>\n",
       "      <th>Separation</th>\n",
       "      <th>References</th>\n",
       "      <th>Notes</th>\n",
       "      <th>Photometry Points</th>\n",
       "      <th>Positions</th>\n",
       "      <th>Redshift Points</th>\n",
       "      <th>Diameter Points</th>\n",
       "      <th>Associations</th>\n",
       "    </tr>\n",
       "  </thead>\n",
       "  <tbody>\n",
       "    <tr>\n",
       "      <th>0</th>\n",
       "      <td>1</td>\n",
       "      <td>b'VVDS 020086348'</td>\n",
       "      <td>36.67950</td>\n",
       "      <td>-4.82100</td>\n",
       "      <td>b'G'</td>\n",
       "      <td>119018.0</td>\n",
       "      <td>0.39700</td>\n",
       "      <td>b''</td>\n",
       "      <td>b'23.6V'</td>\n",
       "      <td>0.002</td>\n",
       "      <td>4</td>\n",
       "      <td>0</td>\n",
       "      <td>3</td>\n",
       "      <td>2</td>\n",
       "      <td>1</td>\n",
       "      <td>0</td>\n",
       "      <td>0</td>\n",
       "    </tr>\n",
       "    <tr>\n",
       "      <th>1</th>\n",
       "      <td>2</td>\n",
       "      <td>b'VVDS 020086179'</td>\n",
       "      <td>36.67985</td>\n",
       "      <td>-4.82053</td>\n",
       "      <td>b'VisS'</td>\n",
       "      <td>NaN</td>\n",
       "      <td>NaN</td>\n",
       "      <td>b''</td>\n",
       "      <td>b'24.8R'</td>\n",
       "      <td>0.036</td>\n",
       "      <td>1</td>\n",
       "      <td>0</td>\n",
       "      <td>0</td>\n",
       "      <td>1</td>\n",
       "      <td>0</td>\n",
       "      <td>0</td>\n",
       "      <td>0</td>\n",
       "    </tr>\n",
       "    <tr>\n",
       "      <th>2</th>\n",
       "      <td>3</td>\n",
       "      <td>b'VVDS 020086136'</td>\n",
       "      <td>36.68013</td>\n",
       "      <td>-4.82081</td>\n",
       "      <td>b'VisS'</td>\n",
       "      <td>NaN</td>\n",
       "      <td>NaN</td>\n",
       "      <td>b''</td>\n",
       "      <td>b'24.7R'</td>\n",
       "      <td>0.039</td>\n",
       "      <td>1</td>\n",
       "      <td>0</td>\n",
       "      <td>0</td>\n",
       "      <td>1</td>\n",
       "      <td>0</td>\n",
       "      <td>0</td>\n",
       "      <td>0</td>\n",
       "    </tr>\n",
       "    <tr>\n",
       "      <th>3</th>\n",
       "      <td>1</td>\n",
       "      <td>b'SSTSL2 J022545.28-044913.1'</td>\n",
       "      <td>36.43865</td>\n",
       "      <td>-4.82033</td>\n",
       "      <td>b'VisS'</td>\n",
       "      <td>463728.0</td>\n",
       "      <td>1.54683</td>\n",
       "      <td>b'PHOT'</td>\n",
       "      <td>b'24.6r'</td>\n",
       "      <td>0.008</td>\n",
       "      <td>1</td>\n",
       "      <td>0</td>\n",
       "      <td>10</td>\n",
       "      <td>2</td>\n",
       "      <td>1</td>\n",
       "      <td>0</td>\n",
       "      <td>0</td>\n",
       "    </tr>\n",
       "    <tr>\n",
       "      <th>4</th>\n",
       "      <td>2</td>\n",
       "      <td>b'VVDS 020086397'</td>\n",
       "      <td>36.43875</td>\n",
       "      <td>-4.82031</td>\n",
       "      <td>b'G'</td>\n",
       "      <td>351057.0</td>\n",
       "      <td>1.17100</td>\n",
       "      <td>b''</td>\n",
       "      <td>b'25.0V'</td>\n",
       "      <td>0.003</td>\n",
       "      <td>4</td>\n",
       "      <td>0</td>\n",
       "      <td>1</td>\n",
       "      <td>2</td>\n",
       "      <td>1</td>\n",
       "      <td>0</td>\n",
       "      <td>0</td>\n",
       "    </tr>\n",
       "    <tr>\n",
       "      <th>...</th>\n",
       "      <td>...</td>\n",
       "      <td>...</td>\n",
       "      <td>...</td>\n",
       "      <td>...</td>\n",
       "      <td>...</td>\n",
       "      <td>...</td>\n",
       "      <td>...</td>\n",
       "      <td>...</td>\n",
       "      <td>...</td>\n",
       "      <td>...</td>\n",
       "      <td>...</td>\n",
       "      <td>...</td>\n",
       "      <td>...</td>\n",
       "      <td>...</td>\n",
       "      <td>...</td>\n",
       "      <td>...</td>\n",
       "      <td>...</td>\n",
       "    </tr>\n",
       "    <tr>\n",
       "      <th>3563</th>\n",
       "      <td>1</td>\n",
       "      <td>b'COMBO-17 10679'</td>\n",
       "      <td>53.12358</td>\n",
       "      <td>-27.98343</td>\n",
       "      <td>b'G'</td>\n",
       "      <td>201880.0</td>\n",
       "      <td>0.67340</td>\n",
       "      <td>b''</td>\n",
       "      <td>b'23.3R'</td>\n",
       "      <td>0.004</td>\n",
       "      <td>7</td>\n",
       "      <td>0</td>\n",
       "      <td>51</td>\n",
       "      <td>4</td>\n",
       "      <td>3</td>\n",
       "      <td>0</td>\n",
       "      <td>0</td>\n",
       "    </tr>\n",
       "    <tr>\n",
       "      <th>3564</th>\n",
       "      <td>1</td>\n",
       "      <td>b'COMBO-17 10669'</td>\n",
       "      <td>53.03403</td>\n",
       "      <td>-27.98347</td>\n",
       "      <td>b'G'</td>\n",
       "      <td>195165.0</td>\n",
       "      <td>0.65100</td>\n",
       "      <td>b''</td>\n",
       "      <td>b'23.6R'</td>\n",
       "      <td>0.003</td>\n",
       "      <td>9</td>\n",
       "      <td>0</td>\n",
       "      <td>42</td>\n",
       "      <td>4</td>\n",
       "      <td>2</td>\n",
       "      <td>0</td>\n",
       "      <td>0</td>\n",
       "    </tr>\n",
       "    <tr>\n",
       "      <th>3565</th>\n",
       "      <td>1</td>\n",
       "      <td>b'WISEA J033250.38-275851.0'</td>\n",
       "      <td>53.20987</td>\n",
       "      <td>-27.98083</td>\n",
       "      <td>b'*'</td>\n",
       "      <td>NaN</td>\n",
       "      <td>NaN</td>\n",
       "      <td>b''</td>\n",
       "      <td>b'19.8R'</td>\n",
       "      <td>0.004</td>\n",
       "      <td>8</td>\n",
       "      <td>0</td>\n",
       "      <td>60</td>\n",
       "      <td>5</td>\n",
       "      <td>0</td>\n",
       "      <td>0</td>\n",
       "      <td>0</td>\n",
       "    </tr>\n",
       "    <tr>\n",
       "      <th>3566</th>\n",
       "      <td>1</td>\n",
       "      <td>b'EIS J033302.20-275914.4'</td>\n",
       "      <td>53.25917</td>\n",
       "      <td>-27.98733</td>\n",
       "      <td>b'*'</td>\n",
       "      <td>NaN</td>\n",
       "      <td>NaN</td>\n",
       "      <td>b''</td>\n",
       "      <td>b'21.80'</td>\n",
       "      <td>0.001</td>\n",
       "      <td>9</td>\n",
       "      <td>0</td>\n",
       "      <td>42</td>\n",
       "      <td>4</td>\n",
       "      <td>0</td>\n",
       "      <td>0</td>\n",
       "      <td>0</td>\n",
       "    </tr>\n",
       "    <tr>\n",
       "      <th>3567</th>\n",
       "      <td>2</td>\n",
       "      <td>b'COMBO-17 10121'</td>\n",
       "      <td>53.25921</td>\n",
       "      <td>-27.98792</td>\n",
       "      <td>b'G'</td>\n",
       "      <td>419710.0</td>\n",
       "      <td>1.40000</td>\n",
       "      <td>b'PHOT'</td>\n",
       "      <td>b'24.9R'</td>\n",
       "      <td>0.035</td>\n",
       "      <td>4</td>\n",
       "      <td>0</td>\n",
       "      <td>23</td>\n",
       "      <td>1</td>\n",
       "      <td>1</td>\n",
       "      <td>0</td>\n",
       "      <td>0</td>\n",
       "    </tr>\n",
       "  </tbody>\n",
       "</table>\n",
       "<p>3568 rows × 17 columns</p>\n",
       "</div>"
      ],
      "text/plain": [
       "      No.                    Object Name        RA       DEC     Type  \\\n",
       "0       1              b'VVDS 020086348'  36.67950  -4.82100     b'G'   \n",
       "1       2              b'VVDS 020086179'  36.67985  -4.82053  b'VisS'   \n",
       "2       3              b'VVDS 020086136'  36.68013  -4.82081  b'VisS'   \n",
       "3       1  b'SSTSL2 J022545.28-044913.1'  36.43865  -4.82033  b'VisS'   \n",
       "4       2              b'VVDS 020086397'  36.43875  -4.82031     b'G'   \n",
       "...   ...                            ...       ...       ...      ...   \n",
       "3563    1              b'COMBO-17 10679'  53.12358 -27.98343     b'G'   \n",
       "3564    1              b'COMBO-17 10669'  53.03403 -27.98347     b'G'   \n",
       "3565    1   b'WISEA J033250.38-275851.0'  53.20987 -27.98083     b'*'   \n",
       "3566    1     b'EIS J033302.20-275914.4'  53.25917 -27.98733     b'*'   \n",
       "3567    2              b'COMBO-17 10121'  53.25921 -27.98792     b'G'   \n",
       "\n",
       "      Velocity  Redshift Redshift Flag Magnitude and Filter  Separation  \\\n",
       "0     119018.0   0.39700           b''             b'23.6V'       0.002   \n",
       "1          NaN       NaN           b''             b'24.8R'       0.036   \n",
       "2          NaN       NaN           b''             b'24.7R'       0.039   \n",
       "3     463728.0   1.54683       b'PHOT'             b'24.6r'       0.008   \n",
       "4     351057.0   1.17100           b''             b'25.0V'       0.003   \n",
       "...        ...       ...           ...                  ...         ...   \n",
       "3563  201880.0   0.67340           b''             b'23.3R'       0.004   \n",
       "3564  195165.0   0.65100           b''             b'23.6R'       0.003   \n",
       "3565       NaN       NaN           b''             b'19.8R'       0.004   \n",
       "3566       NaN       NaN           b''             b'21.80'       0.001   \n",
       "3567  419710.0   1.40000       b'PHOT'             b'24.9R'       0.035   \n",
       "\n",
       "      References  Notes  Photometry Points  Positions  Redshift Points  \\\n",
       "0              4      0                  3          2                1   \n",
       "1              1      0                  0          1                0   \n",
       "2              1      0                  0          1                0   \n",
       "3              1      0                 10          2                1   \n",
       "4              4      0                  1          2                1   \n",
       "...          ...    ...                ...        ...              ...   \n",
       "3563           7      0                 51          4                3   \n",
       "3564           9      0                 42          4                2   \n",
       "3565           8      0                 60          5                0   \n",
       "3566           9      0                 42          4                0   \n",
       "3567           4      0                 23          1                1   \n",
       "\n",
       "      Diameter Points  Associations  \n",
       "0                   0             0  \n",
       "1                   0             0  \n",
       "2                   0             0  \n",
       "3                   0             0  \n",
       "4                   0             0  \n",
       "...               ...           ...  \n",
       "3563                0             0  \n",
       "3564                0             0  \n",
       "3565                0             0  \n",
       "3566                0             0  \n",
       "3567                0             0  \n",
       "\n",
       "[3568 rows x 17 columns]"
      ]
     },
     "execution_count": 8,
     "metadata": {},
     "output_type": "execute_result"
    }
   ],
   "source": [
    "ned"
   ]
  },
  {
   "cell_type": "code",
   "execution_count": 9,
   "metadata": {},
   "outputs": [],
   "source": [
    "ned_table = Table.from_pandas(ned)\n",
    "simbad_table = Table.from_pandas(simbad_convertido)"
   ]
  },
  {
   "cell_type": "code",
   "execution_count": 10,
   "metadata": {},
   "outputs": [
    {
     "data": {
      "text/html": [
       "<i>Table length=3060</i>\n",
       "<table id=\"table140392696051648\" class=\"table-striped table-bordered table-condensed\">\n",
       "<thead><tr><th>MAIN_ID</th><th>RA</th><th>DEC</th><th>RA_PREC</th><th>DEC_PREC</th><th>COO_ERR_MAJA</th><th>COO_ERR_MINA</th><th>COO_ERR_ANGLE</th><th>COO_QUAL</th><th>COO_WAVELENGTH</th><th>COO_BIBCODE</th></tr></thead>\n",
       "<thead><tr><th>bytes33</th><th>float64</th><th>float64</th><th>int16</th><th>int16</th><th>float32</th><th>float32</th><th>int16</th><th>str1</th><th>str1</th><th>bytes19</th></tr></thead>\n",
       "<tr><td>VIDEO J022643.09-044915.70</td><td>36.6795</td><td>-4.821027777777777</td><td>6</td><td>6</td><td>--</td><td>--</td><td>0</td><td>C</td><td>O</td><td>2018A&amp;A...611A..53J</td></tr>\n",
       "<tr><td>VIDEO J022545.29-044913.14</td><td>36.43875</td><td>-4.820333333333333</td><td>6</td><td>6</td><td>--</td><td>--</td><td>0</td><td>C</td><td>O</td><td>2018A&amp;A...611A..53J</td></tr>\n",
       "<tr><td>VIDEO J022600.45-044914.59</td><td>36.50192916666666</td><td>-4.820716666666667</td><td>7</td><td>7</td><td>--</td><td>--</td><td>0</td><td>C</td><td></td><td>2005A&amp;A...439..845L</td></tr>\n",
       "<tr><td>VIDEO J022553.57-044914.80</td><td>36.47325</td><td>-4.820808333333333</td><td>7</td><td>7</td><td>--</td><td>--</td><td>0</td><td>C</td><td>O</td><td>2014A&amp;A...562A..23G</td></tr>\n",
       "<tr><td>VIDEO J022515.79-044910.01</td><td>36.31575</td><td>-4.819527777777777</td><td>6</td><td>6</td><td>--</td><td>--</td><td>0</td><td>C</td><td>O</td><td>2018A&amp;A...611A..53J</td></tr>\n",
       "<tr><td>3XMM J022629.6-044915</td><td>36.62340416666667</td><td>-4.8207249999999995</td><td>7</td><td>7</td><td>52.0</td><td>60.0</td><td>90</td><td>C</td><td>O</td><td>2016yCat.5147....0A</td></tr>\n",
       "<tr><td>VIDEO J022619.49-044908.38</td><td>36.581291666666665</td><td>-4.8189722222222215</td><td>6</td><td>6</td><td>--</td><td>--</td><td>0</td><td>C</td><td>O</td><td>2018A&amp;A...611A..53J</td></tr>\n",
       "<tr><td>VIDEO J022654.03-044909.66</td><td>36.72515833333333</td><td>-4.819308333333333</td><td>7</td><td>7</td><td>--</td><td>--</td><td>0</td><td>C</td><td></td><td>2005A&amp;A...439..845L</td></tr>\n",
       "<tr><td>VIDEO J022515.37-044908.73</td><td>36.314</td><td>-4.819138888888888</td><td>6</td><td>6</td><td>--</td><td>--</td><td>0</td><td>C</td><td>O</td><td>2018A&amp;A...611A..53J</td></tr>\n",
       "<tr><td>VIDEO J022531.48-044906.98</td><td>36.38121666666667</td><td>-4.8186</td><td>7</td><td>7</td><td>--</td><td>--</td><td>0</td><td>C</td><td>O</td><td>2014A&amp;A...562A..23G</td></tr>\n",
       "<tr><td>...</td><td>...</td><td>...</td><td>...</td><td>...</td><td>...</td><td>...</td><td>...</td><td>...</td><td>...</td><td>...</td></tr>\n",
       "<tr><td>EIS-DEEP CDFS-3 J 1 1371</td><td>53.086679583333336</td><td>-27.86235138888889</td><td>8</td><td>8</td><td>--</td><td>--</td><td>0</td><td>C</td><td>O</td><td>2004ApJ...600L..93G</td></tr>\n",
       "<tr><td>VCDFS   9301</td><td>53.01479166666667</td><td>-27.987111111111112</td><td>6</td><td>6</td><td>--</td><td>--</td><td>0</td><td>C</td><td>O</td><td>2004A&amp;A...428.1043L</td></tr>\n",
       "<tr><td>VVDS 000009427</td><td>53.013875</td><td>-27.985472222222224</td><td>6</td><td>6</td><td>--</td><td>--</td><td>0</td><td>C</td><td>O</td><td>2004A&amp;A...428.1043L</td></tr>\n",
       "<tr><td>VCDFS   9577</td><td>52.97604166666667</td><td>-27.984</td><td>6</td><td>6</td><td>--</td><td>--</td><td>0</td><td>C</td><td>O</td><td>2004A&amp;A...428.1043L</td></tr>\n",
       "<tr><td>[HGD2002] EIS J033154.25-275902.4</td><td>52.97604166666667</td><td>-27.984</td><td>6</td><td>6</td><td>--</td><td>--</td><td>0</td><td>C</td><td>O</td><td>2002A&amp;A...384...81H</td></tr>\n",
       "<tr><td>VCDFS   9649</td><td>53.123625</td><td>-27.983472222222222</td><td>6</td><td>6</td><td>--</td><td>--</td><td>0</td><td>C</td><td>O</td><td>2004A&amp;A...428.1043L</td></tr>\n",
       "<tr><td>VCDFS   9681</td><td>53.03404166666667</td><td>-27.9835</td><td>6</td><td>6</td><td>--</td><td>--</td><td>0</td><td>C</td><td>O</td><td>2004A&amp;A...428.1043L</td></tr>\n",
       "<tr><td>VCDFS   9822</td><td>53.20990833333333</td><td>-27.980858888888886</td><td>14</td><td>14</td><td>0.1979</td><td>0.329</td><td>90</td><td>A</td><td>O</td><td>2018yCat.1345....0G</td></tr>\n",
       "<tr><td>[HGD2002] EIS J033302.20-275914.4</td><td>53.259166666666665</td><td>-27.987333333333336</td><td>6</td><td>6</td><td>--</td><td>--</td><td>0</td><td>D</td><td></td><td>2002A&amp;A...384...81H</td></tr>\n",
       "<tr><td>VCDFS  98928</td><td>53.259</td><td>-27.98728888888889</td><td>7</td><td>7</td><td>--</td><td>--</td><td>0</td><td>C</td><td>N</td><td>2003A&amp;A...403..493M</td></tr>\n",
       "</table>"
      ],
      "text/plain": [
       "<Table length=3060>\n",
       "             MAIN_ID                      RA         ...     COO_BIBCODE    \n",
       "             bytes33                   float64       ...       bytes19      \n",
       "--------------------------------- ------------------ ... -------------------\n",
       "       VIDEO J022643.09-044915.70            36.6795 ... 2018A&A...611A..53J\n",
       "       VIDEO J022545.29-044913.14           36.43875 ... 2018A&A...611A..53J\n",
       "       VIDEO J022600.45-044914.59  36.50192916666666 ... 2005A&A...439..845L\n",
       "       VIDEO J022553.57-044914.80           36.47325 ... 2014A&A...562A..23G\n",
       "       VIDEO J022515.79-044910.01           36.31575 ... 2018A&A...611A..53J\n",
       "            3XMM J022629.6-044915  36.62340416666667 ... 2016yCat.5147....0A\n",
       "       VIDEO J022619.49-044908.38 36.581291666666665 ... 2018A&A...611A..53J\n",
       "       VIDEO J022654.03-044909.66  36.72515833333333 ... 2005A&A...439..845L\n",
       "       VIDEO J022515.37-044908.73             36.314 ... 2018A&A...611A..53J\n",
       "       VIDEO J022531.48-044906.98  36.38121666666667 ... 2014A&A...562A..23G\n",
       "                              ...                ... ...                 ...\n",
       "         EIS-DEEP CDFS-3 J 1 1371 53.086679583333336 ... 2004ApJ...600L..93G\n",
       "                     VCDFS   9301  53.01479166666667 ... 2004A&A...428.1043L\n",
       "                   VVDS 000009427          53.013875 ... 2004A&A...428.1043L\n",
       "                     VCDFS   9577  52.97604166666667 ... 2004A&A...428.1043L\n",
       "[HGD2002] EIS J033154.25-275902.4  52.97604166666667 ... 2002A&A...384...81H\n",
       "                     VCDFS   9649          53.123625 ... 2004A&A...428.1043L\n",
       "                     VCDFS   9681  53.03404166666667 ... 2004A&A...428.1043L\n",
       "                     VCDFS   9822  53.20990833333333 ... 2018yCat.1345....0G\n",
       "[HGD2002] EIS J033302.20-275914.4 53.259166666666665 ... 2002A&A...384...81H\n",
       "                     VCDFS  98928             53.259 ... 2003A&A...403..493M"
      ]
     },
     "execution_count": 10,
     "metadata": {},
     "output_type": "execute_result"
    }
   ],
   "source": [
    "simbad_table"
   ]
  },
  {
   "cell_type": "code",
   "execution_count": 11,
   "metadata": {},
   "outputs": [],
   "source": [
    "error = 0.00009\n",
    "data = astro.match(ned_table, simbad_table,'RA','RA','DEC','DEC',error)\n",
    "if len(data) != 0:\n",
    "    data.add_column(1.5, name = 'random')\n",
    "    for i in range(0, len(data)):\n",
    "        data[i]['random'] = np.random.random()"
   ]
  },
  {
   "cell_type": "code",
   "execution_count": 12,
   "metadata": {},
   "outputs": [
    {
     "data": {
      "image/png": "[encoded data removed]",
      "text/plain": [
       "<Figure size 720x720 with 1 Axes>"
      ]
     },
     "metadata": {},
     "output_type": "display_data"
    }
   ],
   "source": [
    "# Criando o ambiente do gráfico \n",
    "sns.set_style(\"white\")\n",
    "plt.figure(figsize=(10, 10))\n",
    "\n",
    "# Gráfico de Dispersão\n",
    "RA_DEC_Ned =ned_table[\"RA\",\"DEC\"]\n",
    "Ned_pandas = RA_DEC_Ned.to_pandas()\n",
    "RA_DEC_Simbad =simbad_table[\"RA\",\"DEC\"]\n",
    "Simbad_pandas = RA_DEC_Simbad.to_pandas()\n",
    "RA_DEC_Data = data[\"RA_1\",\"DEC_1\"]\n",
    "Data_pandas = RA_DEC_Data.to_pandas()\n",
    "g = sns.scatterplot(x = \"RA\", y = \"DEC\", data = Ned_pandas, label = 'Ned')\n",
    "h = sns.scatterplot(x = \"RA\", y = \"DEC\", data = Simbad_pandas, label = 'Simbad')\n",
    "w = sns.scatterplot(x = \"RA_1\", y = \"DEC_1\", data= Data_pandas, label = 'Cross Match')\n",
    "plt.legend()\n",
    "plt.show()"
   ]
  },
  {
   "cell_type": "code",
   "execution_count": 13,
   "metadata": {},
   "outputs": [
    {
     "data": {
      "text/html": [
       "<div>\n",
       "<style scoped>\n",
       "    .dataframe tbody tr th:only-of-type {\n",
       "        vertical-align: middle;\n",
       "    }\n",
       "\n",
       "    .dataframe tbody tr th {\n",
       "        vertical-align: top;\n",
       "    }\n",
       "\n",
       "    .dataframe thead th {\n",
       "        text-align: right;\n",
       "    }\n",
       "</style>\n",
       "<table border=\"1\" class=\"dataframe\">\n",
       "  <thead>\n",
       "    <tr style=\"text-align: right;\">\n",
       "      <th></th>\n",
       "      <th>RA</th>\n",
       "      <th>DEC</th>\n",
       "    </tr>\n",
       "  </thead>\n",
       "  <tbody>\n",
       "    <tr>\n",
       "      <th>0</th>\n",
       "      <td>36.67950</td>\n",
       "      <td>-4.82100</td>\n",
       "    </tr>\n",
       "    <tr>\n",
       "      <th>1</th>\n",
       "      <td>36.67985</td>\n",
       "      <td>-4.82053</td>\n",
       "    </tr>\n",
       "    <tr>\n",
       "      <th>2</th>\n",
       "      <td>36.68013</td>\n",
       "      <td>-4.82081</td>\n",
       "    </tr>\n",
       "    <tr>\n",
       "      <th>3</th>\n",
       "      <td>36.43865</td>\n",
       "      <td>-4.82033</td>\n",
       "    </tr>\n",
       "    <tr>\n",
       "      <th>4</th>\n",
       "      <td>36.43875</td>\n",
       "      <td>-4.82031</td>\n",
       "    </tr>\n",
       "    <tr>\n",
       "      <th>...</th>\n",
       "      <td>...</td>\n",
       "      <td>...</td>\n",
       "    </tr>\n",
       "    <tr>\n",
       "      <th>3563</th>\n",
       "      <td>53.12358</td>\n",
       "      <td>-27.98343</td>\n",
       "    </tr>\n",
       "    <tr>\n",
       "      <th>3564</th>\n",
       "      <td>53.03403</td>\n",
       "      <td>-27.98347</td>\n",
       "    </tr>\n",
       "    <tr>\n",
       "      <th>3565</th>\n",
       "      <td>53.20987</td>\n",
       "      <td>-27.98083</td>\n",
       "    </tr>\n",
       "    <tr>\n",
       "      <th>3566</th>\n",
       "      <td>53.25917</td>\n",
       "      <td>-27.98733</td>\n",
       "    </tr>\n",
       "    <tr>\n",
       "      <th>3567</th>\n",
       "      <td>53.25921</td>\n",
       "      <td>-27.98792</td>\n",
       "    </tr>\n",
       "  </tbody>\n",
       "</table>\n",
       "<p>3568 rows × 2 columns</p>\n",
       "</div>"
      ],
      "text/plain": [
       "            RA       DEC\n",
       "0     36.67950  -4.82100\n",
       "1     36.67985  -4.82053\n",
       "2     36.68013  -4.82081\n",
       "3     36.43865  -4.82033\n",
       "4     36.43875  -4.82031\n",
       "...        ...       ...\n",
       "3563  53.12358 -27.98343\n",
       "3564  53.03403 -27.98347\n",
       "3565  53.20987 -27.98083\n",
       "3566  53.25917 -27.98733\n",
       "3567  53.25921 -27.98792\n",
       "\n",
       "[3568 rows x 2 columns]"
      ]
     },
     "execution_count": 13,
     "metadata": {},
     "output_type": "execute_result"
    }
   ],
   "source": [
    "Ned_pandas"
   ]
  },
  {
   "cell_type": "code",
   "execution_count": 14,
   "metadata": {},
   "outputs": [
    {
     "data": {
      "image/png": "[encoded data removed]",
      "text/plain": [
       "<Figure size 432x288 with 1 Axes>"
      ]
     },
     "metadata": {},
     "output_type": "display_data"
    }
   ],
   "source": [
    "g = sns.scatterplot(x = \"RA\", y = \"DEC\", data = Ned_pandas, label = 'Ned')\n",
    "h = sns.scatterplot(x = \"RA\", y = \"DEC\", data = Simbad_pandas, label = 'Simbad')\n",
    "w = sns.scatterplot(x = \"RA_1\", y = \"DEC_1\", data= Data_pandas, label = 'Cross Match')\n",
    "plt.legend()\n",
    "plt.xlim(52.8,53.4)\n",
    "plt.ylim(-28.1,-27.5)\n",
    "plt.show()"
   ]
  },
  {
   "cell_type": "code",
   "execution_count": 15,
   "metadata": {},
   "outputs": [
    {
     "data": {
      "text/html": [
       "<i>Table length=2665</i>\n",
       "<table id=\"table140392695384624\" class=\"table-striped table-bordered table-condensed\">\n",
       "<thead><tr><th>No.</th><th>Object Name</th><th>RA_1</th><th>DEC_1</th><th>Type</th><th>Velocity</th><th>Redshift</th><th>Redshift Flag</th><th>Magnitude and Filter</th><th>Separation</th><th>References</th><th>Notes</th><th>Photometry Points</th><th>Positions</th><th>Redshift Points</th><th>Diameter Points</th><th>Associations</th><th>MAIN_ID</th><th>RA_2</th><th>DEC_2</th><th>RA_PREC</th><th>DEC_PREC</th><th>COO_ERR_MAJA</th><th>COO_ERR_MINA</th><th>COO_ERR_ANGLE</th><th>COO_QUAL</th><th>COO_WAVELENGTH</th><th>COO_BIBCODE</th><th>random</th></tr></thead>\n",
       "<thead><tr><th>int32</th><th>bytes30</th><th>float64</th><th>float64</th><th>bytes6</th><th>float64</th><th>float64</th><th>bytes4</th><th>bytes5</th><th>float64</th><th>int32</th><th>int32</th><th>int32</th><th>int32</th><th>int32</th><th>int32</th><th>int32</th><th>bytes33</th><th>float64</th><th>float64</th><th>int16</th><th>int16</th><th>float32</th><th>float32</th><th>int16</th><th>str1</th><th>str1</th><th>bytes19</th><th>float64</th></tr></thead>\n",
       "<tr><td>1</td><td>VVDS 020086348</td><td>36.6795</td><td>-4.821</td><td>G</td><td>119018.0</td><td>0.397</td><td></td><td>23.6V</td><td>0.002</td><td>4</td><td>0</td><td>3</td><td>2</td><td>1</td><td>0</td><td>0</td><td>VIDEO J022643.09-044915.70</td><td>36.6795</td><td>-4.821027777777777</td><td>6</td><td>6</td><td>--</td><td>--</td><td>0</td><td>C</td><td>O</td><td>2018A&amp;A...611A..53J</td><td>0.2741704504223075</td></tr>\n",
       "<tr><td>2</td><td>VVDS 020086397</td><td>36.43875</td><td>-4.82031</td><td>G</td><td>351057.0</td><td>1.171</td><td></td><td>25.0V</td><td>0.003</td><td>4</td><td>0</td><td>1</td><td>2</td><td>1</td><td>0</td><td>0</td><td>VIDEO J022545.29-044913.14</td><td>36.43875</td><td>-4.820333333333333</td><td>6</td><td>6</td><td>--</td><td>--</td><td>0</td><td>C</td><td>O</td><td>2018A&amp;A...611A..53J</td><td>0.6000794097468577</td></tr>\n",
       "<tr><td>1</td><td>VVDS 020086471</td><td>36.50192</td><td>-4.82069</td><td>G</td><td>403521.0</td><td>1.346</td><td></td><td>23.9V</td><td>0.002</td><td>3</td><td>0</td><td>0</td><td>1</td><td>1</td><td>0</td><td>0</td><td>VIDEO J022600.45-044914.59</td><td>36.50192916666666</td><td>-4.820716666666667</td><td>7</td><td>7</td><td>--</td><td>--</td><td>0</td><td>C</td><td></td><td>2005A&amp;A...439..845L</td><td>0.6725931978927109</td></tr>\n",
       "<tr><td>1</td><td>SSTSL2 J022553.56-044914.6</td><td>36.47329</td><td>-4.82078</td><td>G</td><td>266516.0</td><td>0.889</td><td></td><td>22.9V</td><td>0.002</td><td>5</td><td>0</td><td>14</td><td>3</td><td>1</td><td>0</td><td>0</td><td>VIDEO J022553.57-044914.80</td><td>36.47325</td><td>-4.820808333333333</td><td>7</td><td>7</td><td>--</td><td>--</td><td>0</td><td>C</td><td>O</td><td>2014A&amp;A...562A..23G</td><td>0.9960853103944206</td></tr>\n",
       "<tr><td>1</td><td>VVDS 020086792</td><td>36.31575</td><td>-4.8195</td><td>G</td><td>251526.0</td><td>0.839</td><td></td><td>24.9V</td><td>0.002</td><td>4</td><td>0</td><td>2</td><td>2</td><td>1</td><td>0</td><td>0</td><td>VIDEO J022515.79-044910.01</td><td>36.31575</td><td>-4.819527777777777</td><td>6</td><td>6</td><td>--</td><td>--</td><td>0</td><td>C</td><td>O</td><td>2018A&amp;A...611A..53J</td><td>0.8839424693800106</td></tr>\n",
       "<tr><td>1</td><td>WISEA J022629.64-044914.8</td><td>36.62338</td><td>-4.82067</td><td>G</td><td>357353.0</td><td>1.192</td><td></td><td>20.9I</td><td>0.002</td><td>15</td><td>0</td><td>38</td><td>9</td><td>7</td><td>0</td><td>0</td><td>3XMM J022629.6-044915</td><td>36.62340416666667</td><td>-4.8207249999999995</td><td>7</td><td>7</td><td>52.0</td><td>60.0</td><td>90</td><td>C</td><td>O</td><td>2016yCat.5147....0A</td><td>0.17066953943487595</td></tr>\n",
       "<tr><td>1</td><td>VVDS 020087083</td><td>36.58125</td><td>-4.81894</td><td>G</td><td>240733.0</td><td>0.803</td><td>TENT</td><td>24.1V</td><td>0.003</td><td>4</td><td>0</td><td>3</td><td>2</td><td>1</td><td>0</td><td>0</td><td>VIDEO J022619.49-044908.38</td><td>36.581291666666665</td><td>-4.8189722222222215</td><td>6</td><td>6</td><td>--</td><td>--</td><td>0</td><td>C</td><td>O</td><td>2018A&amp;A...611A..53J</td><td>0.8023394831229791</td></tr>\n",
       "<tr><td>1</td><td>SSTSL2 J022654.02-044909.7</td><td>36.72512</td><td>-4.81931</td><td>*</td><td>173163.0</td><td>0.577611</td><td>PHOT</td><td>22.9V</td><td>0.002</td><td>4</td><td>0</td><td>10</td><td>3</td><td>1</td><td>0</td><td>0</td><td>VIDEO J022654.03-044909.66</td><td>36.72515833333333</td><td>-4.819308333333333</td><td>7</td><td>7</td><td>--</td><td>--</td><td>0</td><td>C</td><td></td><td>2005A&amp;A...439..845L</td><td>0.7072544159682044</td></tr>\n",
       "<tr><td>1</td><td>VVDS 020087292</td><td>36.314</td><td>-4.81911</td><td>G</td><td>218249.0</td><td>0.728</td><td></td><td>23.5V</td><td>0.002</td><td>5</td><td>0</td><td>7</td><td>2</td><td>1</td><td>0</td><td>0</td><td>VIDEO J022515.37-044908.73</td><td>36.314</td><td>-4.819138888888888</td><td>6</td><td>6</td><td>--</td><td>--</td><td>0</td><td>C</td><td>O</td><td>2018A&amp;A...611A..53J</td><td>0.9076992907230922</td></tr>\n",
       "<tr><td>1</td><td>WISEA J022716.47-044912.0</td><td>36.81867</td><td>-4.81989</td><td>*</td><td>60637.0</td><td>0.202264</td><td>PHOT</td><td>20.1V</td><td>0.002</td><td>4</td><td>0</td><td>22</td><td>4</td><td>1</td><td>0</td><td>0</td><td>VVDS J022716.48-044911.6</td><td>36.81869583333334</td><td>-4.8198888888888884</td><td>7</td><td>7</td><td>--</td><td>--</td><td>0</td><td>C</td><td></td><td>2005A&amp;A...439..845L</td><td>0.8540722761848208</td></tr>\n",
       "<tr><td>...</td><td>...</td><td>...</td><td>...</td><td>...</td><td>...</td><td>...</td><td>...</td><td>...</td><td>...</td><td>...</td><td>...</td><td>...</td><td>...</td><td>...</td><td>...</td><td>...</td><td>...</td><td>...</td><td>...</td><td>...</td><td>...</td><td>...</td><td>...</td><td>...</td><td>...</td><td>...</td><td>...</td><td>...</td></tr>\n",
       "<tr><td>1</td><td>WISEA J033237.36-273747.4</td><td>53.15564</td><td>-27.62986</td><td>G</td><td>284983.0</td><td>0.9506</td><td></td><td>23.6R</td><td>0.007</td><td>9</td><td>0</td><td>74</td><td>6</td><td>3</td><td>0</td><td>0</td><td>VVDS 000083807</td><td>53.155625</td><td>-27.629880555555555</td><td>7</td><td>7</td><td>--</td><td>--</td><td>0</td><td>C</td><td>N</td><td>2003A&amp;A...403..493M</td><td>0.025024890907444308</td></tr>\n",
       "<tr><td>2</td><td>S-CANDELS J033302.99-275520.0</td><td>53.26242</td><td>-27.92212</td><td>*</td><td>--</td><td>--</td><td></td><td>23.7R</td><td>0.004</td><td>9</td><td>0</td><td>61</td><td>5</td><td>0</td><td>0</td><td>0</td><td>[HGD2002] EIS J033302.99-275519.9</td><td>53.262375</td><td>-27.922105555555557</td><td>7</td><td>7</td><td>--</td><td>--</td><td>0</td><td>C</td><td>N</td><td>2003A&amp;A...403..493M</td><td>0.9436482358586246</td></tr>\n",
       "<tr><td>4</td><td>CANDELS J033220.81-275144.3</td><td>53.08666</td><td>-27.86236</td><td>*</td><td>0.0</td><td>0.0</td><td></td><td>23.6R</td><td>0.003</td><td>13</td><td>0</td><td>41</td><td>4</td><td>1</td><td>0</td><td>0</td><td>EIS-DEEP CDFS-3 J 1 1371</td><td>53.086679583333336</td><td>-27.86235138888889</td><td>8</td><td>8</td><td>--</td><td>--</td><td>0</td><td>C</td><td>O</td><td>2004ApJ...600L..93G</td><td>0.548701138397723</td></tr>\n",
       "<tr><td>1</td><td>COMBO-17 10248</td><td>53.01473</td><td>-27.98705</td><td>G</td><td>196634.0</td><td>0.6559</td><td></td><td>23.6R</td><td>0.004</td><td>7</td><td>0</td><td>40</td><td>2</td><td>3</td><td>0</td><td>0</td><td>VCDFS   9301</td><td>53.01479166666667</td><td>-27.987111111111112</td><td>6</td><td>6</td><td>--</td><td>--</td><td>0</td><td>C</td><td>O</td><td>2004A&amp;A...428.1043L</td><td>0.470189210457736</td></tr>\n",
       "<tr><td>1</td><td>COMBO-17 10450</td><td>53.01383</td><td>-27.98542</td><td>G</td><td>280126.0</td><td>0.9344</td><td></td><td>23.9R</td><td>0.003</td><td>7</td><td>0</td><td>34</td><td>3</td><td>3</td><td>0</td><td>0</td><td>VVDS 000009427</td><td>53.013875</td><td>-27.985472222222224</td><td>6</td><td>6</td><td>--</td><td>--</td><td>0</td><td>C</td><td>O</td><td>2004A&amp;A...428.1043L</td><td>0.23209822794555157</td></tr>\n",
       "<tr><td>1</td><td>EIS J033154.25-275902.4</td><td>52.97604</td><td>-27.984</td><td>QSO</td><td>327703.0</td><td>1.0931</td><td></td><td>23.76</td><td>0.0</td><td>9</td><td>0</td><td>40</td><td>3</td><td>3</td><td>0</td><td>0</td><td>VCDFS   9577</td><td>52.97604166666667</td><td>-27.984</td><td>6</td><td>6</td><td>--</td><td>--</td><td>0</td><td>C</td><td>O</td><td>2004A&amp;A...428.1043L</td><td>0.8727409388207586</td></tr>\n",
       "<tr><td>1</td><td>COMBO-17 10679</td><td>53.12358</td><td>-27.98343</td><td>G</td><td>201880.0</td><td>0.6734</td><td></td><td>23.3R</td><td>0.004</td><td>7</td><td>0</td><td>51</td><td>4</td><td>3</td><td>0</td><td>0</td><td>VCDFS   9649</td><td>53.123625</td><td>-27.983472222222222</td><td>6</td><td>6</td><td>--</td><td>--</td><td>0</td><td>C</td><td>O</td><td>2004A&amp;A...428.1043L</td><td>0.5845842752688698</td></tr>\n",
       "<tr><td>1</td><td>COMBO-17 10669</td><td>53.03403</td><td>-27.98347</td><td>G</td><td>195165.0</td><td>0.651</td><td></td><td>23.6R</td><td>0.003</td><td>9</td><td>0</td><td>42</td><td>4</td><td>2</td><td>0</td><td>0</td><td>VCDFS   9681</td><td>53.03404166666667</td><td>-27.9835</td><td>6</td><td>6</td><td>--</td><td>--</td><td>0</td><td>C</td><td>O</td><td>2004A&amp;A...428.1043L</td><td>0.44060520631995004</td></tr>\n",
       "<tr><td>1</td><td>WISEA J033250.38-275851.0</td><td>53.20987</td><td>-27.98083</td><td>*</td><td>--</td><td>--</td><td></td><td>19.8R</td><td>0.004</td><td>8</td><td>0</td><td>60</td><td>5</td><td>0</td><td>0</td><td>0</td><td>VCDFS   9822</td><td>53.20990833333333</td><td>-27.980858888888886</td><td>14</td><td>14</td><td>0.1979</td><td>0.329</td><td>90</td><td>A</td><td>O</td><td>2018yCat.1345....0G</td><td>0.06208310263821082</td></tr>\n",
       "<tr><td>1</td><td>EIS J033302.20-275914.4</td><td>53.25917</td><td>-27.98733</td><td>*</td><td>--</td><td>--</td><td></td><td>21.80</td><td>0.001</td><td>9</td><td>0</td><td>42</td><td>4</td><td>0</td><td>0</td><td>0</td><td>[HGD2002] EIS J033302.20-275914.4</td><td>53.259166666666665</td><td>-27.987333333333336</td><td>6</td><td>6</td><td>--</td><td>--</td><td>0</td><td>D</td><td></td><td>2002A&amp;A...384...81H</td><td>0.04229999536135076</td></tr>\n",
       "</table>"
      ],
      "text/plain": [
       "<Table length=2665>\n",
       " No.           Object Name          ...     COO_BIBCODE            random       \n",
       "int32            bytes30            ...       bytes19             float64       \n",
       "----- ----------------------------- ... ------------------- --------------------\n",
       "    1                VVDS 020086348 ... 2018A&A...611A..53J   0.2741704504223075\n",
       "    2                VVDS 020086397 ... 2018A&A...611A..53J   0.6000794097468577\n",
       "    1                VVDS 020086471 ... 2005A&A...439..845L   0.6725931978927109\n",
       "    1    SSTSL2 J022553.56-044914.6 ... 2014A&A...562A..23G   0.9960853103944206\n",
       "    1                VVDS 020086792 ... 2018A&A...611A..53J   0.8839424693800106\n",
       "    1     WISEA J022629.64-044914.8 ... 2016yCat.5147....0A  0.17066953943487595\n",
       "    1                VVDS 020087083 ... 2018A&A...611A..53J   0.8023394831229791\n",
       "    1    SSTSL2 J022654.02-044909.7 ... 2005A&A...439..845L   0.7072544159682044\n",
       "    1                VVDS 020087292 ... 2018A&A...611A..53J   0.9076992907230922\n",
       "    1     WISEA J022716.47-044912.0 ... 2005A&A...439..845L   0.8540722761848208\n",
       "  ...                           ... ...                 ...                  ...\n",
       "    1     WISEA J033237.36-273747.4 ... 2003A&A...403..493M 0.025024890907444308\n",
       "    2 S-CANDELS J033302.99-275520.0 ... 2003A&A...403..493M   0.9436482358586246\n",
       "    4   CANDELS J033220.81-275144.3 ... 2004ApJ...600L..93G    0.548701138397723\n",
       "    1                COMBO-17 10248 ... 2004A&A...428.1043L    0.470189210457736\n",
       "    1                COMBO-17 10450 ... 2004A&A...428.1043L  0.23209822794555157\n",
       "    1       EIS J033154.25-275902.4 ... 2004A&A...428.1043L   0.8727409388207586\n",
       "    1                COMBO-17 10679 ... 2004A&A...428.1043L   0.5845842752688698\n",
       "    1                COMBO-17 10669 ... 2004A&A...428.1043L  0.44060520631995004\n",
       "    1     WISEA J033250.38-275851.0 ... 2018yCat.1345....0G  0.06208310263821082\n",
       "    1       EIS J033302.20-275914.4 ... 2002A&A...384...81H  0.04229999536135076"
      ]
     },
     "execution_count": 15,
     "metadata": {},
     "output_type": "execute_result"
    }
   ],
   "source": [
    "data"
   ]
  },
  {
   "cell_type": "code",
   "execution_count": 16,
   "metadata": {},
   "outputs": [
    {
     "data": {
      "image/png": "[encoded data removed]",
      "text/plain": [
       "<Figure size 432x288 with 1 Axes>"
      ]
     },
     "metadata": {},
     "output_type": "display_data"
    }
   ],
   "source": [
    "g = sns.scatterplot(x = \"RA\", y = \"DEC\", data = Ned_pandas, label = 'Ned')\n",
    "h = sns.scatterplot(x = \"RA\", y = \"DEC\", data = Simbad_pandas, label = 'Simbad')\n",
    "w = sns.scatterplot(x = \"RA_1\", y = \"DEC_1\", data= Data_pandas, label = 'Cross Match')\n",
    "plt.legend()\n",
    "plt.xlim(52.6,53.6)\n",
    "plt.ylim(-28.1,-27.5)\n",
    "plt.show()"
   ]
  },
  {
   "cell_type": "code",
   "execution_count": 17,
   "metadata": {},
   "outputs": [],
   "source": [
    "error = 0.00001\n",
    "data = astro.match(ned_table, simbad_table,'RA','RA','DEC','DEC',error)\n",
    "if len(data) != 0:\n",
    "    data.add_column(1.5, name = 'random')\n",
    "    for i in range(0, len(data)):\n",
    "        data[i]['random'] = np.random.random()"
   ]
  },
  {
   "cell_type": "code",
   "execution_count": 18,
   "metadata": {},
   "outputs": [
    {
     "data": {
      "image/png": "[encoded data removed]",
      "text/plain": [
       "<Figure size 432x288 with 1 Axes>"
      ]
     },
     "metadata": {},
     "output_type": "display_data"
    }
   ],
   "source": [
    "RA_DEC_Data = data[\"RA_1\",\"DEC_1\"]\n",
    "Data_pandas = RA_DEC_Data.to_pandas()\n",
    "g = sns.scatterplot(x = \"RA\", y = \"DEC\", data = Ned_pandas, label = 'Ned')\n",
    "h = sns.scatterplot(x = \"RA\", y = \"DEC\", data = Simbad_pandas, label = 'Simbad')\n",
    "w = sns.scatterplot(x = \"RA_1\", y = \"DEC_1\", data= Data_pandas, label = 'Cross Match')\n",
    "plt.legend()\n",
    "plt.show()"
   ]
  },
  {
   "cell_type": "code",
   "execution_count": 19,
   "metadata": {},
   "outputs": [
    {
     "data": {
      "image/png": "[encoded data removed]",
      "text/plain": [
       "<Figure size 432x288 with 1 Axes>"
      ]
     },
     "metadata": {},
     "output_type": "display_data"
    }
   ],
   "source": [
    "g = sns.scatterplot(x = \"RA\", y = \"DEC\", data = Ned_pandas, label = 'Ned')\n",
    "h = sns.scatterplot(x = \"RA\", y = \"DEC\", data = Simbad_pandas, label = 'Simbad')\n",
    "w = sns.scatterplot(x = \"RA_1\", y = \"DEC_1\", data= Data_pandas, label = 'Cross Match')\n",
    "plt.legend()\n",
    "plt.xlim(35,38)\n",
    "plt.ylim(-6,-2)\n",
    "plt.show()"
   ]
  },
  {
   "cell_type": "code",
   "execution_count": null,
   "metadata": {},
   "outputs": [],
   "source": []
  }
 ],
 "metadata": {
  "kernelspec": {
   "display_name": "Python 3",
   "language": "python",
   "name": "python3"
  },
  "language_info": {
   "codemirror_mode": {
    "name": "ipython",
    "version": 3
   },
   "file_extension": ".py",
   "mimetype": "text/x-python",
   "name": "python",
   "nbconvert_exporter": "python",
   "pygments_lexer": "ipython3",
   "version": "3.8.5"
  }
 },
 "nbformat": 4,
 "nbformat_minor": 4
}
